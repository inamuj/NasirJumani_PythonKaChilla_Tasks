{
 "cells": [
  {
   "cell_type": "markdown",
   "id": "4f2432fb",
   "metadata": {},
   "source": [
    "### Install libraries\n",
    "\n",
    "- Use pip if you are uisng windows\n",
    "- Use pip3 if you are using macOS"
   ]
  },
  {
   "cell_type": "code",
   "execution_count": 305,
   "id": "6fa3a7c1",
   "metadata": {},
   "outputs": [],
   "source": [
    "#pip install numpy\n",
    "#pip install pandas\n",
    "#pip install scikit-learn\n"
   ]
  },
  {
   "cell_type": "markdown",
   "id": "c24bba5a",
   "metadata": {},
   "source": [
    "### Import Libraries"
   ]
  },
  {
   "cell_type": "code",
   "execution_count": 306,
   "id": "863aceb4",
   "metadata": {},
   "outputs": [],
   "source": [
    "import numpy as np\n",
    "import pandas as pd\n",
    "import matplotlib.pyplot as plt\n",
    "from sklearn.model_selection import train_test_split "
   ]
  },
  {
   "cell_type": "markdown",
   "id": "9c6062af",
   "metadata": {},
   "source": [
    "### Load Dataset\n",
    "- It is better to keep the dataset in the same folder in which you have your notebook, otherwise you have to enter the complete path"
   ]
  },
  {
   "cell_type": "code",
   "execution_count": 307,
   "id": "025a0fc5",
   "metadata": {},
   "outputs": [],
   "source": [
    "# load dataset\n",
    "df = pd.read_csv(\"mldata.csv\")"
   ]
  },
  {
   "cell_type": "code",
   "execution_count": 308,
   "id": "d17d7d0e",
   "metadata": {},
   "outputs": [],
   "source": [
    "# Take relevant data\n",
    "workshop_data = df[[\"age\",\"weight\",\"height\"]]"
   ]
  },
  {
   "cell_type": "code",
   "execution_count": 309,
   "id": "8f35f343",
   "metadata": {},
   "outputs": [],
   "source": [
    "X = workshop_data.iloc[:, 1:2].values #get a copy of dataset exclude last column\n",
    "y = workshop_data.iloc[:, :1].values #get array of dataset in column 1st"
   ]
  },
  {
   "cell_type": "code",
   "execution_count": 310,
   "id": "fc2002ea",
   "metadata": {},
   "outputs": [],
   "source": [
    "X_train, X_test, y_train, y_test = train_test_split(X, y, test_size=0.25, random_state=0)"
   ]
  },
  {
   "cell_type": "code",
   "execution_count": 311,
   "id": "983b2edc",
   "metadata": {},
   "outputs": [
    {
     "data": {
      "text/plain": [
       "LinearRegression()"
      ]
     },
     "execution_count": 311,
     "metadata": {},
     "output_type": "execute_result"
    }
   ],
   "source": [
    "# Fitting Simple Linear Regression to the Training set\n",
    "from sklearn.linear_model import LinearRegression\n",
    "regressor = LinearRegression()\n",
    "regressor.fit(X_train, y_train)"
   ]
  },
  {
   "cell_type": "code",
   "execution_count": 312,
   "id": "65d4b041",
   "metadata": {},
   "outputs": [],
   "source": [
    "# Predicting the Test set results\n",
    "y_pred = regressor.predict(X_test)"
   ]
  },
  {
   "cell_type": "code",
   "execution_count": 313,
   "id": "3d75ea34",
   "metadata": {},
   "outputs": [
    {
     "data": {
      "image/png": "[encoded data removed]",
      "text/plain": [
       "<Figure size 432x288 with 1 Axes>"
      ]
     },
     "metadata": {
      "needs_background": "light"
     },
     "output_type": "display_data"
    }
   ],
   "source": [
    "# Visualizing the Training set results\n",
    "viz_train = plt\n",
    "viz_train.scatter(X_train, y_train, color='red')\n",
    "viz_train.plot(X_train, regressor.predict(X_train), color='blue')\n",
    "viz_train.title('Weight vs Age')\n",
    "viz_train.xlabel('Weight')\n",
    "viz_train.ylabel('Age')\n",
    "viz_train.show()"
   ]
  },
  {
   "cell_type": "code",
   "execution_count": 314,
   "id": "cf75ecf1",
   "metadata": {},
   "outputs": [
    {
     "data": {
      "image/png": "[encoded data removed]",
      "text/plain": [
       "<Figure size 432x288 with 1 Axes>"
      ]
     },
     "metadata": {
      "needs_background": "light"
     },
     "output_type": "display_data"
    }
   ],
   "source": [
    "# Visualizing the Test set results\n",
    "viz_test = plt\n",
    "viz_test.scatter(X_test, y_test, color='red')\n",
    "viz_test.plot(X_train, regressor.predict(X_train), color='blue')\n",
    "viz_test.title('Weight vs Age')\n",
    "viz_test.xlabel('Weight')\n",
    "viz_test.ylabel('Age')\n",
    "viz_test.show()"
   ]
  }
 ],
 "metadata": {
  "kernelspec": {
   "display_name": "Python 3",
   "language": "python",
   "name": "python3"
  },
  "language_info": {
   "codemirror_mode": {
    "name": "ipython",
    "version": 3
   },
   "file_extension": ".py",
   "mimetype": "text/x-python",
   "name": "python",
   "nbconvert_exporter": "python",
   "pygments_lexer": "ipython3",
   "version": "3.9.7"
  }
 },
 "nbformat": 4,
 "nbformat_minor": 5
}
